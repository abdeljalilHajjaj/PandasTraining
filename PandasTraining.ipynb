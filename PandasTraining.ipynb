{
  "nbformat": 4,
  "nbformat_minor": 0,
  "metadata": {
    "colab": {
      "provenance": [],
      "authorship_tag": "ABX9TyOVGij01Q94LZjuz65qjCcU",
      "include_colab_link": true
    },
    "kernelspec": {
      "name": "python3",
      "display_name": "Python 3"
    },
    "language_info": {
      "name": "python"
    }
  },
  "cells": [
    {
      "cell_type": "markdown",
      "metadata": {
        "id": "view-in-github",
        "colab_type": "text"
      },
      "source": [
        "<a href=\"https://colab.research.google.com/github/abdeljalilHajjaj/PandasTraining/blob/main/PandasTraining.ipynb\" target=\"_parent\"><img src=\"https://colab.research.google.com/assets/colab-badge.svg\" alt=\"Open In Colab\"/></a>"
      ]
    },
    {
      "cell_type": "code",
      "source": [
        "import pandas as pd\n",
        "import matplotlib.pyplot as plt\n",
        "from datetime import date\n",
        "import seaborn as sns\n",
        "\n"
      ],
      "metadata": {
        "id": "V4XfRbKZ9hh-"
      },
      "execution_count": 85,
      "outputs": []
    },
    {
      "cell_type": "code",
      "source": [
        "!pip install lxml"
      ],
      "metadata": {
        "colab": {
          "base_uri": "https://localhost:8080/"
        },
        "id": "yQA9REj4ME78",
        "outputId": "2fdc2bdf-902a-474c-d3c7-1aaa60b00f13"
      },
      "execution_count": 86,
      "outputs": [
        {
          "output_type": "stream",
          "name": "stdout",
          "text": [
            "Looking in indexes: https://pypi.org/simple, https://us-python.pkg.dev/colab-wheels/public/simple/\n",
            "Requirement already satisfied: lxml in /usr/local/lib/python3.8/dist-packages (4.9.2)\n"
          ]
        }
      ]
    },
    {
      "cell_type": "code",
      "source": [
        "new_col_names = ['MangaName','Author(s)','publisher','type','Collecte_volumes','serialized','sum_of_sales_By_million','average_sales_By_million']\n",
        "table = pd.read_html('https://en.wikipedia.org/wiki/List_of_best-selling_manga')"
      ],
      "metadata": {
        "id": "4Rezvwj6MKdx"
      },
      "execution_count": 87,
      "outputs": []
    },
    {
      "cell_type": "code",
      "source": [
        "table[1].columns = new_col_names\n",
        "table[2].columns = new_col_names\n",
        "table[3].columns = new_col_names\n",
        "table[4].columns = new_col_names"
      ],
      "metadata": {
        "id": "fhB4HqGUuGKD"
      },
      "execution_count": 88,
      "outputs": []
    },
    {
      "cell_type": "code",
      "source": [
        "frames = [table[1],table[2],table[3],table[4]]\n",
        "table_final = pd.concat(frames,ignore_index=True)"
      ],
      "metadata": {
        "id": "y18lI-lUozVp"
      },
      "execution_count": 89,
      "outputs": []
    },
    {
      "cell_type": "code",
      "source": [
        "table_final"
      ],
      "metadata": {
        "colab": {
          "base_uri": "https://localhost:8080/",
          "height": 423
        },
        "id": "fNV2lsQ4MLSM",
        "outputId": "2fd10a45-c6cd-4c35-d662-ef970d73752d"
      },
      "execution_count": 90,
      "outputs": [
        {
          "output_type": "execute_result",
          "data": {
            "text/plain": [
              "                         MangaName                      Author(s)  \\\n",
              "0                        One Piece                   Eiichiro Oda   \n",
              "1                         Golgo 13  Takao Saito, Saito Production   \n",
              "2    Case Closed / Detective Conan                   Gosho Aoyama   \n",
              "3                      Dragon Ball                 Akira Toriyama   \n",
              "4                         Doraemon                Fujiko F. Fujio   \n",
              "..                             ...                            ...   \n",
              "181                   Sukeban Deka                    Shinji Wada   \n",
              "182                           Swan                 Kyoko Ariyoshi   \n",
              "183              The Tale of Genji                    Waki Yamato   \n",
              "184       Tokyo Daigaku Monogatari                  Tatsuya Egawa   \n",
              "185                           Weed            Yoshihiro Takahashi   \n",
              "\n",
              "           publisher      type Collecte_volumes    serialized  \\\n",
              "0           Shueisha    Shōnen              104  1997–present   \n",
              "1         Shogakukan    Seinen              207  1968–present   \n",
              "2         Shogakukan    Shōnen              102  1994–present   \n",
              "3           Shueisha    Shōnen               42     1984–1995   \n",
              "4         Shogakukan  Children               45     1969–1996   \n",
              "..               ...       ...              ...           ...   \n",
              "181       Hakusensha     Shōjo               22     1976–1982   \n",
              "182         Shueisha     Shōjo               21     1976–1981   \n",
              "183         Kodansha     Shōjo               13     1980–1993   \n",
              "184       Shogakukan    Seinen               34     1992–2001   \n",
              "185  Nihon Bungeisha    Seinen               60     1999–2009   \n",
              "\n",
              "    sum_of_sales_By_million average_sales_By_million  \n",
              "0       516.6 million[2][d]             4.97 million  \n",
              "1            300 million[3]             1.45 million  \n",
              "2            270 million[4]             2.65 million  \n",
              "3      260 million[5][e][f]             6.19 million  \n",
              "4        250 million[18][g]             4.71 million  \n",
              "..                      ...                      ...  \n",
              "181         20 million[183]             0.90 million  \n",
              "182         20 million[184]             0.95 million  \n",
              "183         20 million[185]             1.53 million  \n",
              "184         20 million[186]             0.58 million  \n",
              "185         20 million[187]             0.33 million  \n",
              "\n",
              "[186 rows x 8 columns]"
            ],
            "text/html": [
              "\n",
              "  <div id=\"df-8bf326e7-5409-470c-af3c-60c68f232e60\">\n",
              "    <div class=\"colab-df-container\">\n",
              "      <div>\n",
              "<style scoped>\n",
              "    .dataframe tbody tr th:only-of-type {\n",
              "        vertical-align: middle;\n",
              "    }\n",
              "\n",
              "    .dataframe tbody tr th {\n",
              "        vertical-align: top;\n",
              "    }\n",
              "\n",
              "    .dataframe thead th {\n",
              "        text-align: right;\n",
              "    }\n",
              "</style>\n",
              "<table border=\"1\" class=\"dataframe\">\n",
              "  <thead>\n",
              "    <tr style=\"text-align: right;\">\n",
              "      <th></th>\n",
              "      <th>MangaName</th>\n",
              "      <th>Author(s)</th>\n",
              "      <th>publisher</th>\n",
              "      <th>type</th>\n",
              "      <th>Collecte_volumes</th>\n",
              "      <th>serialized</th>\n",
              "      <th>sum_of_sales_By_million</th>\n",
              "      <th>average_sales_By_million</th>\n",
              "    </tr>\n",
              "  </thead>\n",
              "  <tbody>\n",
              "    <tr>\n",
              "      <th>0</th>\n",
              "      <td>One Piece</td>\n",
              "      <td>Eiichiro Oda</td>\n",
              "      <td>Shueisha</td>\n",
              "      <td>Shōnen</td>\n",
              "      <td>104</td>\n",
              "      <td>1997–present</td>\n",
              "      <td>516.6 million[2][d]</td>\n",
              "      <td>4.97 million</td>\n",
              "    </tr>\n",
              "    <tr>\n",
              "      <th>1</th>\n",
              "      <td>Golgo 13</td>\n",
              "      <td>Takao Saito, Saito Production</td>\n",
              "      <td>Shogakukan</td>\n",
              "      <td>Seinen</td>\n",
              "      <td>207</td>\n",
              "      <td>1968–present</td>\n",
              "      <td>300 million[3]</td>\n",
              "      <td>1.45 million</td>\n",
              "    </tr>\n",
              "    <tr>\n",
              "      <th>2</th>\n",
              "      <td>Case Closed / Detective Conan</td>\n",
              "      <td>Gosho Aoyama</td>\n",
              "      <td>Shogakukan</td>\n",
              "      <td>Shōnen</td>\n",
              "      <td>102</td>\n",
              "      <td>1994–present</td>\n",
              "      <td>270 million[4]</td>\n",
              "      <td>2.65 million</td>\n",
              "    </tr>\n",
              "    <tr>\n",
              "      <th>3</th>\n",
              "      <td>Dragon Ball</td>\n",
              "      <td>Akira Toriyama</td>\n",
              "      <td>Shueisha</td>\n",
              "      <td>Shōnen</td>\n",
              "      <td>42</td>\n",
              "      <td>1984–1995</td>\n",
              "      <td>260 million[5][e][f]</td>\n",
              "      <td>6.19 million</td>\n",
              "    </tr>\n",
              "    <tr>\n",
              "      <th>4</th>\n",
              "      <td>Doraemon</td>\n",
              "      <td>Fujiko F. Fujio</td>\n",
              "      <td>Shogakukan</td>\n",
              "      <td>Children</td>\n",
              "      <td>45</td>\n",
              "      <td>1969–1996</td>\n",
              "      <td>250 million[18][g]</td>\n",
              "      <td>4.71 million</td>\n",
              "    </tr>\n",
              "    <tr>\n",
              "      <th>...</th>\n",
              "      <td>...</td>\n",
              "      <td>...</td>\n",
              "      <td>...</td>\n",
              "      <td>...</td>\n",
              "      <td>...</td>\n",
              "      <td>...</td>\n",
              "      <td>...</td>\n",
              "      <td>...</td>\n",
              "    </tr>\n",
              "    <tr>\n",
              "      <th>181</th>\n",
              "      <td>Sukeban Deka</td>\n",
              "      <td>Shinji Wada</td>\n",
              "      <td>Hakusensha</td>\n",
              "      <td>Shōjo</td>\n",
              "      <td>22</td>\n",
              "      <td>1976–1982</td>\n",
              "      <td>20 million[183]</td>\n",
              "      <td>0.90 million</td>\n",
              "    </tr>\n",
              "    <tr>\n",
              "      <th>182</th>\n",
              "      <td>Swan</td>\n",
              "      <td>Kyoko Ariyoshi</td>\n",
              "      <td>Shueisha</td>\n",
              "      <td>Shōjo</td>\n",
              "      <td>21</td>\n",
              "      <td>1976–1981</td>\n",
              "      <td>20 million[184]</td>\n",
              "      <td>0.95 million</td>\n",
              "    </tr>\n",
              "    <tr>\n",
              "      <th>183</th>\n",
              "      <td>The Tale of Genji</td>\n",
              "      <td>Waki Yamato</td>\n",
              "      <td>Kodansha</td>\n",
              "      <td>Shōjo</td>\n",
              "      <td>13</td>\n",
              "      <td>1980–1993</td>\n",
              "      <td>20 million[185]</td>\n",
              "      <td>1.53 million</td>\n",
              "    </tr>\n",
              "    <tr>\n",
              "      <th>184</th>\n",
              "      <td>Tokyo Daigaku Monogatari</td>\n",
              "      <td>Tatsuya Egawa</td>\n",
              "      <td>Shogakukan</td>\n",
              "      <td>Seinen</td>\n",
              "      <td>34</td>\n",
              "      <td>1992–2001</td>\n",
              "      <td>20 million[186]</td>\n",
              "      <td>0.58 million</td>\n",
              "    </tr>\n",
              "    <tr>\n",
              "      <th>185</th>\n",
              "      <td>Weed</td>\n",
              "      <td>Yoshihiro Takahashi</td>\n",
              "      <td>Nihon Bungeisha</td>\n",
              "      <td>Seinen</td>\n",
              "      <td>60</td>\n",
              "      <td>1999–2009</td>\n",
              "      <td>20 million[187]</td>\n",
              "      <td>0.33 million</td>\n",
              "    </tr>\n",
              "  </tbody>\n",
              "</table>\n",
              "<p>186 rows × 8 columns</p>\n",
              "</div>\n",
              "      <button class=\"colab-df-convert\" onclick=\"convertToInteractive('df-8bf326e7-5409-470c-af3c-60c68f232e60')\"\n",
              "              title=\"Convert this dataframe to an interactive table.\"\n",
              "              style=\"display:none;\">\n",
              "        \n",
              "  <svg xmlns=\"http://www.w3.org/2000/svg\" height=\"24px\"viewBox=\"0 0 24 24\"\n",
              "       width=\"24px\">\n",
              "    <path d=\"M0 0h24v24H0V0z\" fill=\"none\"/>\n",
              "    <path d=\"M18.56 5.44l.94 2.06.94-2.06 2.06-.94-2.06-.94-.94-2.06-.94 2.06-2.06.94zm-11 1L8.5 8.5l.94-2.06 2.06-.94-2.06-.94L8.5 2.5l-.94 2.06-2.06.94zm10 10l.94 2.06.94-2.06 2.06-.94-2.06-.94-.94-2.06-.94 2.06-2.06.94z\"/><path d=\"M17.41 7.96l-1.37-1.37c-.4-.4-.92-.59-1.43-.59-.52 0-1.04.2-1.43.59L10.3 9.45l-7.72 7.72c-.78.78-.78 2.05 0 2.83L4 21.41c.39.39.9.59 1.41.59.51 0 1.02-.2 1.41-.59l7.78-7.78 2.81-2.81c.8-.78.8-2.07 0-2.86zM5.41 20L4 18.59l7.72-7.72 1.47 1.35L5.41 20z\"/>\n",
              "  </svg>\n",
              "      </button>\n",
              "      \n",
              "  <style>\n",
              "    .colab-df-container {\n",
              "      display:flex;\n",
              "      flex-wrap:wrap;\n",
              "      gap: 12px;\n",
              "    }\n",
              "\n",
              "    .colab-df-convert {\n",
              "      background-color: #E8F0FE;\n",
              "      border: none;\n",
              "      border-radius: 50%;\n",
              "      cursor: pointer;\n",
              "      display: none;\n",
              "      fill: #1967D2;\n",
              "      height: 32px;\n",
              "      padding: 0 0 0 0;\n",
              "      width: 32px;\n",
              "    }\n",
              "\n",
              "    .colab-df-convert:hover {\n",
              "      background-color: #E2EBFA;\n",
              "      box-shadow: 0px 1px 2px rgba(60, 64, 67, 0.3), 0px 1px 3px 1px rgba(60, 64, 67, 0.15);\n",
              "      fill: #174EA6;\n",
              "    }\n",
              "\n",
              "    [theme=dark] .colab-df-convert {\n",
              "      background-color: #3B4455;\n",
              "      fill: #D2E3FC;\n",
              "    }\n",
              "\n",
              "    [theme=dark] .colab-df-convert:hover {\n",
              "      background-color: #434B5C;\n",
              "      box-shadow: 0px 1px 3px 1px rgba(0, 0, 0, 0.15);\n",
              "      filter: drop-shadow(0px 1px 2px rgba(0, 0, 0, 0.3));\n",
              "      fill: #FFFFFF;\n",
              "    }\n",
              "  </style>\n",
              "\n",
              "      <script>\n",
              "        const buttonEl =\n",
              "          document.querySelector('#df-8bf326e7-5409-470c-af3c-60c68f232e60 button.colab-df-convert');\n",
              "        buttonEl.style.display =\n",
              "          google.colab.kernel.accessAllowed ? 'block' : 'none';\n",
              "\n",
              "        async function convertToInteractive(key) {\n",
              "          const element = document.querySelector('#df-8bf326e7-5409-470c-af3c-60c68f232e60');\n",
              "          const dataTable =\n",
              "            await google.colab.kernel.invokeFunction('convertToInteractive',\n",
              "                                                     [key], {});\n",
              "          if (!dataTable) return;\n",
              "\n",
              "          const docLinkHtml = 'Like what you see? Visit the ' +\n",
              "            '<a target=\"_blank\" href=https://colab.research.google.com/notebooks/data_table.ipynb>data table notebook</a>'\n",
              "            + ' to learn more about interactive tables.';\n",
              "          element.innerHTML = '';\n",
              "          dataTable['output_type'] = 'display_data';\n",
              "          await google.colab.output.renderOutput(dataTable, element);\n",
              "          const docLink = document.createElement('div');\n",
              "          docLink.innerHTML = docLinkHtml;\n",
              "          element.appendChild(docLink);\n",
              "        }\n",
              "      </script>\n",
              "    </div>\n",
              "  </div>\n",
              "  "
            ]
          },
          "metadata": {},
          "execution_count": 90
        }
      ]
    },
    {
      "cell_type": "code",
      "source": [
        "table_final[['start_date','end_date']] = table_final.serialized.str.split(\"–\",n=1,expand=True)"
      ],
      "metadata": {
        "id": "-mmVfWuuMUjh"
      },
      "execution_count": 91,
      "outputs": []
    },
    {
      "cell_type": "code",
      "source": [
        "table_final.pop('serialized')\n",
        "table_final.pop('average_sales_By_million');"
      ],
      "metadata": {
        "id": "RR6We_HfxxA3"
      },
      "execution_count": 92,
      "outputs": []
    },
    {
      "cell_type": "code",
      "source": [
        "table_final.sum_of_sales_By_million = table_final.sum_of_sales_By_million.str.replace('million.*',\"\")"
      ],
      "metadata": {
        "id": "3TbTGDvivQYb",
        "colab": {
          "base_uri": "https://localhost:8080/"
        },
        "outputId": "3da3c25b-27da-4b60-f63d-2bead2ed80fc"
      },
      "execution_count": 93,
      "outputs": [
        {
          "output_type": "stream",
          "name": "stderr",
          "text": [
            "<ipython-input-93-3de366c36a8c>:1: FutureWarning: The default value of regex will change from True to False in a future version.\n",
            "  table_final.sum_of_sales_By_million = table_final.sum_of_sales_By_million.str.replace('million.*',\"\")\n"
          ]
        }
      ]
    },
    {
      "cell_type": "code",
      "source": [
        "table_final.loc[75,'Collecte_volumes'] = 35 \n",
        "table_final.loc[31,'Collecte_volumes'] = 22 "
      ],
      "metadata": {
        "id": "qd-2QHqJFkj4"
      },
      "execution_count": 94,
      "outputs": []
    },
    {
      "cell_type": "code",
      "source": [
        "\n",
        "table_final.sum_of_sales_By_million = table_final.sum_of_sales_By_million.astype('float64')\n",
        "table_final.Collecte_volumes = table_final.Collecte_volumes.astype('int64')\n",
        "table_final.MangaName = table_final.MangaName.astype('string')"
      ],
      "metadata": {
        "id": "iehGVjltuoPk"
      },
      "execution_count": 95,
      "outputs": []
    },
    {
      "cell_type": "code",
      "source": [
        "for i,j in enumerate(table_final.end_date):\n",
        "  if j=='present' :\n",
        "    table_final.loc[i,'end_date'] = date.today().year\n",
        "  if '(on hiatus)' in j:\n",
        "    table_final.loc[i,'end_date'] = table_final.loc[i,'end_date'].replace('(on hiatus)','')"
      ],
      "metadata": {
        "id": "j6rSWP6p7d23"
      },
      "execution_count": 96,
      "outputs": []
    },
    {
      "cell_type": "code",
      "source": [
        "table_final.loc[table_final.end_date==\"1987, 2011–present\",'end_date'] = date.today().year"
      ],
      "metadata": {
        "id": "6cdF91UkHbA3"
      },
      "execution_count": 97,
      "outputs": []
    },
    {
      "cell_type": "code",
      "source": [
        "table_final['statut'] = ['ended' if str(x) < str(date.today().year) else 'in progress' for x in table_final['end_date'] ]"
      ],
      "metadata": {
        "id": "UxVBQOBPFpxq"
      },
      "execution_count": 98,
      "outputs": []
    },
    {
      "cell_type": "code",
      "source": [
        "table_final"
      ],
      "metadata": {
        "colab": {
          "base_uri": "https://localhost:8080/",
          "height": 423
        },
        "id": "D5bLERZvMUgh",
        "outputId": "0fdf088d-6883-4ff4-b17f-1fab322aa3f6"
      },
      "execution_count": 99,
      "outputs": [
        {
          "output_type": "execute_result",
          "data": {
            "text/plain": [
              "                         MangaName                      Author(s)  \\\n",
              "0                        One Piece                   Eiichiro Oda   \n",
              "1                         Golgo 13  Takao Saito, Saito Production   \n",
              "2    Case Closed / Detective Conan                   Gosho Aoyama   \n",
              "3                      Dragon Ball                 Akira Toriyama   \n",
              "4                         Doraemon                Fujiko F. Fujio   \n",
              "..                             ...                            ...   \n",
              "181                   Sukeban Deka                    Shinji Wada   \n",
              "182                           Swan                 Kyoko Ariyoshi   \n",
              "183              The Tale of Genji                    Waki Yamato   \n",
              "184       Tokyo Daigaku Monogatari                  Tatsuya Egawa   \n",
              "185                           Weed            Yoshihiro Takahashi   \n",
              "\n",
              "           publisher      type  Collecte_volumes  sum_of_sales_By_million  \\\n",
              "0           Shueisha    Shōnen               104                    516.6   \n",
              "1         Shogakukan    Seinen               207                    300.0   \n",
              "2         Shogakukan    Shōnen               102                    270.0   \n",
              "3           Shueisha    Shōnen                42                    260.0   \n",
              "4         Shogakukan  Children                45                    250.0   \n",
              "..               ...       ...               ...                      ...   \n",
              "181       Hakusensha     Shōjo                22                     20.0   \n",
              "182         Shueisha     Shōjo                21                     20.0   \n",
              "183         Kodansha     Shōjo                13                     20.0   \n",
              "184       Shogakukan    Seinen                34                     20.0   \n",
              "185  Nihon Bungeisha    Seinen                60                     20.0   \n",
              "\n",
              "    start_date end_date       statut  \n",
              "0         1997     2023  in progress  \n",
              "1         1968     2023  in progress  \n",
              "2         1994     2023  in progress  \n",
              "3         1984     1995        ended  \n",
              "4         1969     1996        ended  \n",
              "..         ...      ...          ...  \n",
              "181       1976     1982        ended  \n",
              "182       1976     1981        ended  \n",
              "183       1980     1993        ended  \n",
              "184       1992     2001        ended  \n",
              "185       1999     2009        ended  \n",
              "\n",
              "[186 rows x 9 columns]"
            ],
            "text/html": [
              "\n",
              "  <div id=\"df-8e4bb2ec-033c-4362-b21b-f6b8eff356d0\">\n",
              "    <div class=\"colab-df-container\">\n",
              "      <div>\n",
              "<style scoped>\n",
              "    .dataframe tbody tr th:only-of-type {\n",
              "        vertical-align: middle;\n",
              "    }\n",
              "\n",
              "    .dataframe tbody tr th {\n",
              "        vertical-align: top;\n",
              "    }\n",
              "\n",
              "    .dataframe thead th {\n",
              "        text-align: right;\n",
              "    }\n",
              "</style>\n",
              "<table border=\"1\" class=\"dataframe\">\n",
              "  <thead>\n",
              "    <tr style=\"text-align: right;\">\n",
              "      <th></th>\n",
              "      <th>MangaName</th>\n",
              "      <th>Author(s)</th>\n",
              "      <th>publisher</th>\n",
              "      <th>type</th>\n",
              "      <th>Collecte_volumes</th>\n",
              "      <th>sum_of_sales_By_million</th>\n",
              "      <th>start_date</th>\n",
              "      <th>end_date</th>\n",
              "      <th>statut</th>\n",
              "    </tr>\n",
              "  </thead>\n",
              "  <tbody>\n",
              "    <tr>\n",
              "      <th>0</th>\n",
              "      <td>One Piece</td>\n",
              "      <td>Eiichiro Oda</td>\n",
              "      <td>Shueisha</td>\n",
              "      <td>Shōnen</td>\n",
              "      <td>104</td>\n",
              "      <td>516.6</td>\n",
              "      <td>1997</td>\n",
              "      <td>2023</td>\n",
              "      <td>in progress</td>\n",
              "    </tr>\n",
              "    <tr>\n",
              "      <th>1</th>\n",
              "      <td>Golgo 13</td>\n",
              "      <td>Takao Saito, Saito Production</td>\n",
              "      <td>Shogakukan</td>\n",
              "      <td>Seinen</td>\n",
              "      <td>207</td>\n",
              "      <td>300.0</td>\n",
              "      <td>1968</td>\n",
              "      <td>2023</td>\n",
              "      <td>in progress</td>\n",
              "    </tr>\n",
              "    <tr>\n",
              "      <th>2</th>\n",
              "      <td>Case Closed / Detective Conan</td>\n",
              "      <td>Gosho Aoyama</td>\n",
              "      <td>Shogakukan</td>\n",
              "      <td>Shōnen</td>\n",
              "      <td>102</td>\n",
              "      <td>270.0</td>\n",
              "      <td>1994</td>\n",
              "      <td>2023</td>\n",
              "      <td>in progress</td>\n",
              "    </tr>\n",
              "    <tr>\n",
              "      <th>3</th>\n",
              "      <td>Dragon Ball</td>\n",
              "      <td>Akira Toriyama</td>\n",
              "      <td>Shueisha</td>\n",
              "      <td>Shōnen</td>\n",
              "      <td>42</td>\n",
              "      <td>260.0</td>\n",
              "      <td>1984</td>\n",
              "      <td>1995</td>\n",
              "      <td>ended</td>\n",
              "    </tr>\n",
              "    <tr>\n",
              "      <th>4</th>\n",
              "      <td>Doraemon</td>\n",
              "      <td>Fujiko F. Fujio</td>\n",
              "      <td>Shogakukan</td>\n",
              "      <td>Children</td>\n",
              "      <td>45</td>\n",
              "      <td>250.0</td>\n",
              "      <td>1969</td>\n",
              "      <td>1996</td>\n",
              "      <td>ended</td>\n",
              "    </tr>\n",
              "    <tr>\n",
              "      <th>...</th>\n",
              "      <td>...</td>\n",
              "      <td>...</td>\n",
              "      <td>...</td>\n",
              "      <td>...</td>\n",
              "      <td>...</td>\n",
              "      <td>...</td>\n",
              "      <td>...</td>\n",
              "      <td>...</td>\n",
              "      <td>...</td>\n",
              "    </tr>\n",
              "    <tr>\n",
              "      <th>181</th>\n",
              "      <td>Sukeban Deka</td>\n",
              "      <td>Shinji Wada</td>\n",
              "      <td>Hakusensha</td>\n",
              "      <td>Shōjo</td>\n",
              "      <td>22</td>\n",
              "      <td>20.0</td>\n",
              "      <td>1976</td>\n",
              "      <td>1982</td>\n",
              "      <td>ended</td>\n",
              "    </tr>\n",
              "    <tr>\n",
              "      <th>182</th>\n",
              "      <td>Swan</td>\n",
              "      <td>Kyoko Ariyoshi</td>\n",
              "      <td>Shueisha</td>\n",
              "      <td>Shōjo</td>\n",
              "      <td>21</td>\n",
              "      <td>20.0</td>\n",
              "      <td>1976</td>\n",
              "      <td>1981</td>\n",
              "      <td>ended</td>\n",
              "    </tr>\n",
              "    <tr>\n",
              "      <th>183</th>\n",
              "      <td>The Tale of Genji</td>\n",
              "      <td>Waki Yamato</td>\n",
              "      <td>Kodansha</td>\n",
              "      <td>Shōjo</td>\n",
              "      <td>13</td>\n",
              "      <td>20.0</td>\n",
              "      <td>1980</td>\n",
              "      <td>1993</td>\n",
              "      <td>ended</td>\n",
              "    </tr>\n",
              "    <tr>\n",
              "      <th>184</th>\n",
              "      <td>Tokyo Daigaku Monogatari</td>\n",
              "      <td>Tatsuya Egawa</td>\n",
              "      <td>Shogakukan</td>\n",
              "      <td>Seinen</td>\n",
              "      <td>34</td>\n",
              "      <td>20.0</td>\n",
              "      <td>1992</td>\n",
              "      <td>2001</td>\n",
              "      <td>ended</td>\n",
              "    </tr>\n",
              "    <tr>\n",
              "      <th>185</th>\n",
              "      <td>Weed</td>\n",
              "      <td>Yoshihiro Takahashi</td>\n",
              "      <td>Nihon Bungeisha</td>\n",
              "      <td>Seinen</td>\n",
              "      <td>60</td>\n",
              "      <td>20.0</td>\n",
              "      <td>1999</td>\n",
              "      <td>2009</td>\n",
              "      <td>ended</td>\n",
              "    </tr>\n",
              "  </tbody>\n",
              "</table>\n",
              "<p>186 rows × 9 columns</p>\n",
              "</div>\n",
              "      <button class=\"colab-df-convert\" onclick=\"convertToInteractive('df-8e4bb2ec-033c-4362-b21b-f6b8eff356d0')\"\n",
              "              title=\"Convert this dataframe to an interactive table.\"\n",
              "              style=\"display:none;\">\n",
              "        \n",
              "  <svg xmlns=\"http://www.w3.org/2000/svg\" height=\"24px\"viewBox=\"0 0 24 24\"\n",
              "       width=\"24px\">\n",
              "    <path d=\"M0 0h24v24H0V0z\" fill=\"none\"/>\n",
              "    <path d=\"M18.56 5.44l.94 2.06.94-2.06 2.06-.94-2.06-.94-.94-2.06-.94 2.06-2.06.94zm-11 1L8.5 8.5l.94-2.06 2.06-.94-2.06-.94L8.5 2.5l-.94 2.06-2.06.94zm10 10l.94 2.06.94-2.06 2.06-.94-2.06-.94-.94-2.06-.94 2.06-2.06.94z\"/><path d=\"M17.41 7.96l-1.37-1.37c-.4-.4-.92-.59-1.43-.59-.52 0-1.04.2-1.43.59L10.3 9.45l-7.72 7.72c-.78.78-.78 2.05 0 2.83L4 21.41c.39.39.9.59 1.41.59.51 0 1.02-.2 1.41-.59l7.78-7.78 2.81-2.81c.8-.78.8-2.07 0-2.86zM5.41 20L4 18.59l7.72-7.72 1.47 1.35L5.41 20z\"/>\n",
              "  </svg>\n",
              "      </button>\n",
              "      \n",
              "  <style>\n",
              "    .colab-df-container {\n",
              "      display:flex;\n",
              "      flex-wrap:wrap;\n",
              "      gap: 12px;\n",
              "    }\n",
              "\n",
              "    .colab-df-convert {\n",
              "      background-color: #E8F0FE;\n",
              "      border: none;\n",
              "      border-radius: 50%;\n",
              "      cursor: pointer;\n",
              "      display: none;\n",
              "      fill: #1967D2;\n",
              "      height: 32px;\n",
              "      padding: 0 0 0 0;\n",
              "      width: 32px;\n",
              "    }\n",
              "\n",
              "    .colab-df-convert:hover {\n",
              "      background-color: #E2EBFA;\n",
              "      box-shadow: 0px 1px 2px rgba(60, 64, 67, 0.3), 0px 1px 3px 1px rgba(60, 64, 67, 0.15);\n",
              "      fill: #174EA6;\n",
              "    }\n",
              "\n",
              "    [theme=dark] .colab-df-convert {\n",
              "      background-color: #3B4455;\n",
              "      fill: #D2E3FC;\n",
              "    }\n",
              "\n",
              "    [theme=dark] .colab-df-convert:hover {\n",
              "      background-color: #434B5C;\n",
              "      box-shadow: 0px 1px 3px 1px rgba(0, 0, 0, 0.15);\n",
              "      filter: drop-shadow(0px 1px 2px rgba(0, 0, 0, 0.3));\n",
              "      fill: #FFFFFF;\n",
              "    }\n",
              "  </style>\n",
              "\n",
              "      <script>\n",
              "        const buttonEl =\n",
              "          document.querySelector('#df-8e4bb2ec-033c-4362-b21b-f6b8eff356d0 button.colab-df-convert');\n",
              "        buttonEl.style.display =\n",
              "          google.colab.kernel.accessAllowed ? 'block' : 'none';\n",
              "\n",
              "        async function convertToInteractive(key) {\n",
              "          const element = document.querySelector('#df-8e4bb2ec-033c-4362-b21b-f6b8eff356d0');\n",
              "          const dataTable =\n",
              "            await google.colab.kernel.invokeFunction('convertToInteractive',\n",
              "                                                     [key], {});\n",
              "          if (!dataTable) return;\n",
              "\n",
              "          const docLinkHtml = 'Like what you see? Visit the ' +\n",
              "            '<a target=\"_blank\" href=https://colab.research.google.com/notebooks/data_table.ipynb>data table notebook</a>'\n",
              "            + ' to learn more about interactive tables.';\n",
              "          element.innerHTML = '';\n",
              "          dataTable['output_type'] = 'display_data';\n",
              "          await google.colab.output.renderOutput(dataTable, element);\n",
              "          const docLink = document.createElement('div');\n",
              "          docLink.innerHTML = docLinkHtml;\n",
              "          element.appendChild(docLink);\n",
              "        }\n",
              "      </script>\n",
              "    </div>\n",
              "  </div>\n",
              "  "
            ]
          },
          "metadata": {},
          "execution_count": 99
        }
      ]
    },
    {
      "cell_type": "code",
      "source": [
        "top_type = table_final.groupby('type')['MangaName'].count()"
      ],
      "metadata": {
        "id": "Hf54C3E99CZh"
      },
      "execution_count": 100,
      "outputs": []
    },
    {
      "cell_type": "code",
      "source": [
        "frame = { 'nbManga': top_type, 'typeManga': top_type.index }\n",
        "tyy = pd.DataFrame(frame)\n",
        "top_type =  tyy.reset_index(drop=True)"
      ],
      "metadata": {
        "id": "g2M1n7zIRIg7"
      },
      "execution_count": 101,
      "outputs": []
    },
    {
      "cell_type": "code",
      "source": [
        "sort = top_type.sort_values('nbManga',ascending=False).query(\"typeManga != '—'\")"
      ],
      "metadata": {
        "id": "3DkW80k5ctC6"
      },
      "execution_count": 102,
      "outputs": []
    },
    {
      "cell_type": "code",
      "source": [
        "sns.barplot(y='typeManga',x='nbManga',data=sort)\n",
        "plt.title('Représentation des types de Manga les plus populaires ')\n",
        "plt.ylabel('Type de Manga')\n",
        "plt.xlabel('Nombre de manga les plus populaires par type')\n",
        "plt.show()\n"
      ],
      "metadata": {
        "colab": {
          "base_uri": "https://localhost:8080/",
          "height": 295
        },
        "id": "jfwkhC5NbIuL",
        "outputId": "5586020a-50c0-4f07-b608-297e1f1998b0"
      },
      "execution_count": 103,
      "outputs": [
        {
          "output_type": "display_data",
          "data": {
            "text/plain": [
              "<Figure size 432x288 with 1 Axes>"
            ],
            "image/png": "[encoded data removed]"
          },
          "metadata": {
            "needs_background": "light"
          }
        }
      ]
    },
    {
      "cell_type": "code",
      "source": [
        "colors = ['#479BF5', '#E05159']\n",
        "tr = table_final.groupby('statut')['MangaName'].count()\n",
        "tr.index\n",
        "plt.pie(tr,labels=tr,colors=colors,autopct='%.2f%%')\n",
        "plt.legend(tr.index,loc='upper left',bbox_to_anchor=(1, 1.10))\n",
        "plt.show()"
      ],
      "metadata": {
        "id": "qHXy5mGd0Fbv",
        "colab": {
          "base_uri": "https://localhost:8080/",
          "height": 265
        },
        "outputId": "d49b60ab-b5b3-4340-d886-dede95a47949"
      },
      "execution_count": 122,
      "outputs": [
        {
          "output_type": "display_data",
          "data": {
            "text/plain": [
              "<Figure size 432x288 with 1 Axes>"
            ],
            "image/png": "[encoded data removed]"
          },
          "metadata": {}
        }
      ]
    },
    {
      "cell_type": "code",
      "source": [
        "top_manga = table_final[:10] "
      ],
      "metadata": {
        "id": "_4oLBh9VLU_x"
      },
      "execution_count": 105,
      "outputs": []
    },
    {
      "cell_type": "code",
      "source": [
        "\n",
        "plt.figure(figsize=(5, 2))\n",
        "heatmap = sns.heatmap(table_final.corr(), vmin=-1, vmax=1, annot=True,cmap='BrBG')\n",
        "heatmap.set_title('Correlation Heatmap', fontdict={'fontsize':12}, pad=12);"
      ],
      "metadata": {
        "colab": {
          "base_uri": "https://localhost:8080/",
          "height": 180
        },
        "id": "XSwfJroCxH-1",
        "outputId": "76229a2a-628e-4644-eab8-2cebe0d2a671"
      },
      "execution_count": 106,
      "outputs": [
        {
          "output_type": "display_data",
          "data": {
            "text/plain": [
              "<Figure size 360x144 with 2 Axes>"
            ],
            "image/png": "[encoded data removed]"
          },
          "metadata": {
            "needs_background": "light"
          }
        }
      ]
    },
    {
      "cell_type": "code",
      "source": [
        "\n",
        "top_vol = table_final.sort_values('Collecte_volumes',ascending=False)[:10]\n",
        "fig, axe = plt.subplots(figsize=(15, 6))\n",
        "sns.barplot(x=top_vol['Collecte_volumes'],y=top_vol['MangaName'],data=top_vol,ax=axe)\n",
        "plt.title('Top 10 des mangas avec le plus de Tomes')\n",
        "plt.xlabel('Nombre de Tomes')\n",
        "plt.ylabel('Nom du Manga')\n",
        "\n",
        "plt.show()\n",
        "fig, axe = plt.subplots(figsize=(15, 6))\n",
        "sns.barplot(data=top_manga,x='MangaName',y='sum_of_sales_By_million',ax=axe)\n",
        "plt.ylabel('sommes des ventes par million')\n",
        "plt.xlabel('nom du manga')\n",
        "plt.title('Top 10 des mangas les plus vendus')\n",
        "plt.xticks(rotation=90);\n",
        "plt.show()"
      ],
      "metadata": {
        "colab": {
          "base_uri": "https://localhost:8080/",
          "height": 943
        },
        "id": "r3EtgQW9zjP3",
        "outputId": "d4c2d64b-ce86-4ec5-ef8a-eb8691d8e9bc"
      },
      "execution_count": 107,
      "outputs": [
        {
          "output_type": "display_data",
          "data": {
            "text/plain": [
              "<Figure size 1080x432 with 1 Axes>"
            ],
            "image/png": "[encoded data removed]"
          },
          "metadata": {
            "needs_background": "light"
          }
        },
        {
          "output_type": "display_data",
          "data": {
            "text/plain": [
              "<Figure size 1080x432 with 1 Axes>"
            ],
            "image/png": "[encoded data removed]"
          },
          "metadata": {
            "needs_background": "light"
          }
        }
      ]
    }
  ]
}