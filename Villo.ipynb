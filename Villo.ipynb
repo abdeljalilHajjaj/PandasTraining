{
  "nbformat": 4,
  "nbformat_minor": 0,
  "metadata": {
    "colab": {
      "provenance": [],
      "authorship_tag": "ABX9TyOMtcDR3m0jU7yWNoRCzlqL",
      "include_colab_link": true
    },
    "kernelspec": {
      "name": "python3",
      "display_name": "Python 3"
    },
    "language_info": {
      "name": "python"
    }
  },
  "cells": [
    {
      "cell_type": "markdown",
      "metadata": {
        "id": "view-in-github",
        "colab_type": "text"
      },
      "source": [
        "<a href=\"https://colab.research.google.com/github/abdeljalilHajjaj/PandasTraining/blob/main/Villo.ipynb\" target=\"_parent\"><img src=\"https://colab.research.google.com/assets/colab-badge.svg\" alt=\"Open In Colab\"/></a>"
      ]
    },
    {
      "cell_type": "markdown",
      "source": [
        "# ***Analyse des données Villo***"
      ],
      "metadata": {
        "id": "AI12602YdZ4_"
      }
    },
    {
      "cell_type": "markdown",
      "source": [
        "# ***Load data from Api***\n"
      ],
      "metadata": {
        "id": "Gp-q6Ve2p8jl"
      }
    },
    {
      "cell_type": "code",
      "source": [
        "import pandas as pd\n",
        "import matplotlib as plt\n",
        "import seaborn as sns\n",
        "import requests"
      ],
      "metadata": {
        "id": "GTbNdKKUdxYd"
      },
      "execution_count": 137,
      "outputs": []
    },
    {
      "cell_type": "code",
      "source": [
        "url = 'https://api.jcdecaux.com/vls/v1/stations?contract=Bruxelles-Capitale&apiKey=a592d7692b967ef848b6e94bdd7dba5946f9b633'\n",
        "\n",
        "r = requests.get(url)\n",
        "json = r.json()"
      ],
      "metadata": {
        "id": "zoo1hS6LeAoC"
      },
      "execution_count": 138,
      "outputs": []
    },
    {
      "cell_type": "code",
      "source": [
        "dt = pd.DataFrame(json)"
      ],
      "metadata": {
        "id": "vE3L45-wf-UT"
      },
      "execution_count": 139,
      "outputs": []
    },
    {
      "cell_type": "markdown",
      "source": [
        "# process data transformation"
      ],
      "metadata": {
        "id": "Yb_odIQyqGdR"
      }
    },
    {
      "cell_type": "code",
      "source": [
        "dt = dt.rename(columns={'contract_name' : 'city'})\n",
        "# dt.position.shape\n",
        "dt[['lat','long']] =dt.position.astype('str').str.split(',',n=1,expand=True)\n",
        "dt.lat = dt.lat.astype('str').str.extract(r'(\\d+.\\d+)')\n",
        "dt.long = dt.long.astype('str').str.extract(r'(\\d+.\\d+)')"
      ],
      "metadata": {
        "id": "rt9KTdlpgnKR"
      },
      "execution_count": 140,
      "outputs": []
    },
    {
      "cell_type": "markdown",
      "source": [
        "Transfrom timestamp to date_time for last_update col"
      ],
      "metadata": {
        "id": "YDM3Sx20o-xv"
      }
    },
    {
      "cell_type": "code",
      "source": [
        "dt.last_update =  dt.last_update.astype('str').str[:-3]\n",
        "dt.last_update = pd.to_datetime(dt.last_update,unit='s')"
      ],
      "metadata": {
        "id": "3Zs90vTsjfVi"
      },
      "execution_count": 176,
      "outputs": []
    },
    {
      "cell_type": "code",
      "source": [
        "dt.info()"
      ],
      "metadata": {
        "colab": {
          "base_uri": "https://localhost:8080/"
        },
        "id": "91xqpkpiZdgi",
        "outputId": "9d528846-72d3-4e14-f005-3dfc7286f307"
      },
      "execution_count": 182,
      "outputs": [
        {
          "output_type": "stream",
          "name": "stdout",
          "text": [
            "<class 'pandas.core.frame.DataFrame'>\n",
            "RangeIndex: 343 entries, 0 to 342\n",
            "Data columns (total 14 columns):\n",
            " #   Column                 Non-Null Count  Dtype         \n",
            "---  ------                 --------------  -----         \n",
            " 0   number                 343 non-null    int64         \n",
            " 1   city                   343 non-null    object        \n",
            " 2   name                   343 non-null    object        \n",
            " 3   address                343 non-null    object        \n",
            " 4   position               343 non-null    object        \n",
            " 5   banking                343 non-null    bool          \n",
            " 6   bonus                  343 non-null    bool          \n",
            " 7   bike_stands            343 non-null    int64         \n",
            " 8   available_bike_stands  343 non-null    int64         \n",
            " 9   available_bikes        343 non-null    int64         \n",
            " 10  status                 343 non-null    object        \n",
            " 11  last_update            343 non-null    datetime64[ns]\n",
            " 12  lat                    343 non-null    object        \n",
            " 13  long                   343 non-null    object        \n",
            "dtypes: bool(2), datetime64[ns](1), int64(4), object(7)\n",
            "memory usage: 33.0+ KB\n"
          ]
        }
      ]
    }
  ]
}